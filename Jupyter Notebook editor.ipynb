{
    "cells": [
        {
            "cell_type": "markdown",
            "metadata": {
                "collapsed": true
            },
            "source": "# My Jupyter Notebook on IBM Watson Studio\n"
        },
        {
            "cell_type": "markdown",
            "metadata": {},
            "source": "**Aastha Tembhare**\n"
        },
        {
            "cell_type": "markdown",
            "metadata": {},
            "source": "Student at IIT Roorkee\n"
        },
        {
            "cell_type": "markdown",
            "metadata": {},
            "source": "__I am interested in Data Science because it let us make decision with some thought not just vaguely by analyzing real data__"
        },
        {
            "cell_type": "markdown",
            "metadata": {},
            "source": "### Coverting speed from 25 Km/hour to Metre/Seconds"
        },
        {
            "cell_type": "code",
            "execution_count": 2,
            "metadata": {},
            "outputs": [
                {
                    "data": {
                        "text/plain": "6.944444445"
                    },
                    "execution_count": 2,
                    "metadata": {},
                    "output_type": "execute_result"
                }
            ],
            "source": "25*0.2777777778"
        },
        {
            "cell_type": "markdown",
            "metadata": {},
            "source": "Performed operations\n- Markdown or code\n- Arithmetic Operation\nand the following\n|Operations|\n|----------|\n|Hyperlink|\n|Image|\n![Speed](https://media.product.which.co.uk/prod/images/1500_750/gm-7243cde8-2f96-42d9-8dd9-a9c2902a5391-speed-checker.jpg)"
        },
        {
            "cell_type": "code",
            "execution_count": null,
            "metadata": {},
            "outputs": [],
            "source": ""
        }
    ],
    "metadata": {
        "kernelspec": {
            "display_name": "Python 3.10",
            "language": "python",
            "name": "python3"
        },
        "language_info": {
            "codemirror_mode": {
                "name": "ipython",
                "version": 3
            },
            "file_extension": ".py",
            "mimetype": "text/x-python",
            "name": "python",
            "nbconvert_exporter": "python",
            "pygments_lexer": "ipython3",
            "version": "3.10.14"
        }
    },
    "nbformat": 4,
    "nbformat_minor": 1
}