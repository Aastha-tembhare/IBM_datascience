{
    "cells": [
        {
            "cell_type": "markdown",
            "metadata": {
                "collapsed": true
            },
            "source": "# Data Science Tools and Ecosystem\n"
        },
        {
            "cell_type": "markdown",
            "metadata": {},
            "source": "# **Objectives**\n- List popular languages for Data Science\n- List popular libraries used by data scientists \n- List of popular data science tools\n- Some arithmetic operations examples"
        },
        {
            "cell_type": "markdown",
            "metadata": {},
            "source": "# Some of the popular languages that Data Scientists use are:\n1. Python\n2. R\n3. javascript"
        },
        {
            "cell_type": "markdown",
            "metadata": {},
            "source": "# Some of the libraries used by Data scientists include:\n1. Pandas\n2. NumPy\n3. dplyr"
        },
        {
            "cell_type": "markdown",
            "metadata": {},
            "source": "# Data Science Tools\n1. Jupyter Notebook\n2. RStudio\n3. Zeppelin Notebooks"
        },
        {
            "cell_type": "markdown",
            "metadata": {},
            "source": "### Below are a few examples of evaluating arithmetic expressions in Python"
        },
        {
            "cell_type": "code",
            "execution_count": 1,
            "metadata": {},
            "outputs": [
                {
                    "data": {
                        "text/plain": "17"
                    },
                    "execution_count": 1,
                    "metadata": {},
                    "output_type": "execute_result"
                }
            ],
            "source": "# This a simple arithmetic expression to mutiply then add integers\n(3*4)+5\n"
        },
        {
            "cell_type": "code",
            "execution_count": 2,
            "metadata": {},
            "outputs": [
                {
                    "data": {
                        "text/plain": "3.3333333333333335"
                    },
                    "execution_count": 2,
                    "metadata": {},
                    "output_type": "execute_result"
                }
            ],
            "source": "# This will convert 200 minutes to hours by diving by 60\n200/60"
        },
        {
            "cell_type": "markdown",
            "metadata": {},
            "source": "## Author\nAastha Tembhare"
        }
    ],
    "metadata": {
        "kernelspec": {
            "display_name": "Python 3.10",
            "language": "python",
            "name": "python3"
        },
        "language_info": {
            "codemirror_mode": {
                "name": "ipython",
                "version": 3
            },
            "file_extension": ".py",
            "mimetype": "text/x-python",
            "name": "python",
            "nbconvert_exporter": "python",
            "pygments_lexer": "ipython3",
            "version": "3.10.14"
        }
    },
    "nbformat": 4,
    "nbformat_minor": 1
}